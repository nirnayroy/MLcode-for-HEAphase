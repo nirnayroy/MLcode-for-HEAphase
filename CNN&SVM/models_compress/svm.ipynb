{
 "cells": [
  {
   "cell_type": "code",
   "execution_count": 1,
   "metadata": {},
   "outputs": [],
   "source": [
    "import numpy as np\n",
    "import sklearn\n",
    "from sklearn.svm import SVC"
   ]
  },
  {
   "cell_type": "code",
   "execution_count": 2,
   "metadata": {},
   "outputs": [],
   "source": [
    "def train(dataset, c):\n",
    "    svm = SVC(gamma=0.2, kernel='rbf', C=c, class_weight='balanced', decision_function_shape='ovo', degree=2)\n",
    "    x_train = np.load('data/x_train_11.npy') #420\n",
    "    x_val = np.load('data/x_val_11.npy')     #91\n",
    "    x_test = np.load('data/x_test_11.npy')   #90\n",
    "    y_train = np.load('data/y_train_' + dataset + '_11.npy')\n",
    "    y_val = np.load('data/y_val_' + dataset + '_11.npy')\n",
    "    y_test = np.load('data/y_test_' + dataset + '_11.npy')\n",
    "    data_pred = np.load('data/for_pred_11.npy')\n",
    "    svm.fit(x_train, y_train)\n",
    "    train_pred = svm.predict(x_train)\n",
    "    val_pred = svm.predict(x_val)\n",
    "    test_pred = svm.predict(x_test) \n",
    "    data_pred_label = svm.predict(data_pred)\n",
    "    train_acc = np.mean(train_pred==y_train)\n",
    "    val_acc = np.mean(val_pred==y_val)\n",
    "    test_acc = np.mean(test_pred==y_test)\n",
    "    print('train_accuracy: ', train_acc)\n",
    "    print('val_accuracy: ', val_acc)\n",
    "    print('test_accuracy: ', test_acc)\n",
    "    return data_pred_label"
   ]
  },
  {
   "cell_type": "code",
   "execution_count": 9,
   "metadata": {},
   "outputs": [
    {
     "name": "stdout",
     "output_type": "stream",
     "text": [
      "train_accuracy:  0.9809523809523809\n",
      "val_accuracy:  0.989010989010989\n",
      "test_accuracy:  0.9555555555555556\n",
      "[1. 1. 1. 1. 1. 1. 0. 0.]\n"
     ]
    }
   ],
   "source": [
    "data_pred_label = train('SS', 10)\n",
    "print(data_pred_label)"
   ]
  },
  {
   "cell_type": "code",
   "execution_count": null,
   "metadata": {},
   "outputs": [],
   "source": []
  }
 ],
 "metadata": {
  "kernelspec": {
   "display_name": "Python 3",
   "language": "python",
   "name": "python3"
  },
  "language_info": {
   "codemirror_mode": {
    "name": "ipython",
    "version": 3
   },
   "file_extension": ".py",
   "mimetype": "text/x-python",
   "name": "python",
   "nbconvert_exporter": "python",
   "pygments_lexer": "ipython3",
   "version": "3.7.6"
  }
 },
 "nbformat": 4,
 "nbformat_minor": 2
}
